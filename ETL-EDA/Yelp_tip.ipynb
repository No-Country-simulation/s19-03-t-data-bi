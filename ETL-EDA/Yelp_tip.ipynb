{
 "cells": [
  {
   "cell_type": "markdown",
   "metadata": {},
   "source": [
    "<h1 style=\"text-align: center; font-weight: bold; font-size: 2.5em;\">Sistema de Recomendación de Locales Gastronómicos</h1>\n"
   ]
  },
  {
   "cell_type": "markdown",
   "metadata": {},
   "source": [
    "## Introducción\n",
    "Este proyecto busca desarrollar un sistema de recomendación que satisfaga las necesidades tanto de inversores interesados en identificar oportunidades gastronómicas rentables como de consumidores que desean explorar opciones de calidad. A través de técnicas de análisis de datos y aprendizaje automático, se construirán recomendaciones personalizadas.\n",
    "\n",
    "En este caso, se analizará uno de los archivos clave del proyecto, el cual contiene información detallada sobre las reseñas (reviews) y las puntuaciones otorgadas (stars) a los locales gastronómicos por parte de los usuarios. Estos datos serán esenciales para comprender las preferencias de los consumidores y evaluar el desempeño de los locales, formando la base para las recomendaciones."
   ]
  },
  {
   "cell_type": "markdown",
   "metadata": {},
   "source": [
    "## Dataset y Documentación de Yelp\n",
    "\n",
    "Para el desarrollo de este proyecto, utilizaremos el dataset público proporcionado por Yelp, el cual contiene información valiosa sobre negocios, reseñas, puntuaciones y datos relacionados. Puedes acceder a los recursos necesarios en los siguientes enlaces:\n",
    "\n",
    "- **[Descargar el dataset de Yelp](https://www.yelp.com/dataset)**: Aquí podrás obtener el archivo completo con los datos en formato JSON.\n",
    "- **[Documentación oficial del dataset](https://www.yelp.com/dataset/documentation/main)**: Consulta detalles sobre las estructuras de datos, descripciones de columnas y ejemplos para facilitar el análisis.\n",
    "\n",
    "Estos recursos serán esenciales para construir nuestro sistema de recomendación, permitiendo extraer insights clave sobre las preferencias de los consumidores y el desempeño de los locales gastronómicos."
   ]
  },
  {
   "cell_type": "markdown",
   "metadata": {},
   "source": [
    "## Descripción de los datos (Diccionario)\n",
    "\n",
    "Estas columnas proporcionan información clave sobre los consejos escritos por los usuarios, permitiendo analizar qué tipos de sugerencias tienen mayor impacto, qué usuarios son más activos, y cómo se distribuyen los consejos entre los negocios.\n",
    "\n",
    "\n",
    "1. **`text`**:\n",
    "   - **Descripción**: Texto breve que contiene el consejo o sugerencia del usuario sobre un negocio.\n",
    "   - **Tipo**: Cadena de texto (string).\n",
    "   - **Ejemplo**: `\"Menú secreto: el sándwich de pollo frito es increíble. Sus zapatos también son buenos.\"`\n",
    "\n",
    "2. **`date`**:\n",
    "   - **Descripción**: Fecha en la que se escribió el consejo, con formato `YYYY-MM-DD`.\n",
    "   - **Tipo**: Cadena de texto (string) que representa una fecha.\n",
    "   - **Ejemplo**: `\"2013-09-20\"`\n",
    "\n",
    "3. **`compliment_count`**:\n",
    "   - **Descripción**: Número de cumplidos que recibió el consejo, indicando cuántas personas encontraron útil o interesante la sugerencia.\n",
    "   - **Tipo**: Entero (integer).\n",
    "   - **Ejemplo**: `172`\n",
    "\n",
    "4. **`business_id`**:\n",
    "   - **Descripción**: Identificador único de 22 caracteres que representa al negocio al que se refiere el consejo. Se puede relacionar con los datos en `business.json`.\n",
    "   - **Tipo**: Cadena de texto (string).\n",
    "   - **Ejemplo**: `\"tnhfDv5Il8EaGSXZGiuQGg\"`\n",
    "\n",
    "5. **`user_id`**:\n",
    "   - **Descripción**: Identificador único de 22 caracteres que representa al usuario que escribió el consejo. Se puede relacionar con los datos en `user.json`.\n",
    "   - **Tipo**: Cadena de texto (string).\n",
    "   - **Ejemplo**: `\"49JhAJh8vSQ-vM4Aourl0g\"`\n",
    "\n"
   ]
  },
  {
   "cell_type": "markdown",
   "metadata": {},
   "source": [
    "# Limpieza y Análisis del Dataset:"
   ]
  },
  {
   "cell_type": "markdown",
   "metadata": {},
   "source": [
    "### Se importan las librerías necesarias para el Procesamiento y Análisis"
   ]
  },
  {
   "cell_type": "code",
   "execution_count": 2,
   "metadata": {},
   "outputs": [],
   "source": [
    "# Se importan las librerías a utilizar\n",
    "import pandas as pd\n",
    "import pyarrow.parquet as pq\n",
    "import seaborn as sns\n",
    "import matplotlib.pyplot as plt"
   ]
  },
  {
   "cell_type": "markdown",
   "metadata": {},
   "source": [
    "###  Carga del Dataset de Consejos (Tips)"
   ]
  },
  {
   "cell_type": "code",
   "execution_count": 3,
   "metadata": {},
   "outputs": [],
   "source": [
    "# Se Crea un Dataframe con el archivo JSON\n",
    "df = pd.read_json(r'C:\\Users\\Blasferp\\Desktop\\Data Science\\Proyectos\\No_Country\\Yelp\\Datasets\\yelp_academic_dataset_tip.json', lines=True)"
   ]
  },
  {
   "cell_type": "markdown",
   "metadata": {},
   "source": [
    "### Visualización General de los Datos\n"
   ]
  },
  {
   "cell_type": "code",
   "execution_count": 4,
   "metadata": {},
   "outputs": [
    {
     "name": "stdout",
     "output_type": "stream",
     "text": [
      "<class 'pandas.core.frame.DataFrame'>\n",
      "RangeIndex: 908915 entries, 0 to 908914\n",
      "Data columns (total 5 columns):\n",
      " #   Column            Non-Null Count   Dtype         \n",
      "---  ------            --------------   -----         \n",
      " 0   user_id           908915 non-null  object        \n",
      " 1   business_id       908915 non-null  object        \n",
      " 2   text              908915 non-null  object        \n",
      " 3   date              908915 non-null  datetime64[ns]\n",
      " 4   compliment_count  908915 non-null  int64         \n",
      "dtypes: datetime64[ns](1), int64(1), object(3)\n",
      "memory usage: 34.7+ MB\n"
     ]
    }
   ],
   "source": [
    "df.info()"
   ]
  },
  {
   "cell_type": "code",
   "execution_count": 5,
   "metadata": {},
   "outputs": [
    {
     "data": {
      "text/plain": [
       "(908915, 5)"
      ]
     },
     "execution_count": 5,
     "metadata": {},
     "output_type": "execute_result"
    }
   ],
   "source": [
    "# Características generales\n",
    "df.shape"
   ]
  },
  {
   "cell_type": "markdown",
   "metadata": {},
   "source": [
    "### Descripción del DataFrame de Tips\n",
    "\n",
    "Este DataFrame contiene información sobre consejos (tips) escritos por usuarios acerca de diferentes negocios. Cada fila representa un consejo individual. A continuación, se describen las columnas:\n",
    "\n",
    "### Resumen del DataFrame\n",
    "- **Número de filas**: 908,915\n",
    "- **Número de columnas**: 5\n",
    "- **Uso de memoria**: 34.7 MB\n",
    "\n"
   ]
  },
  {
   "cell_type": "markdown",
   "metadata": {},
   "source": [
    "### Visualizacion del dataframe y las Variables"
   ]
  },
  {
   "cell_type": "code",
   "execution_count": 6,
   "metadata": {},
   "outputs": [
    {
     "data": {
      "text/html": [
       "<div>\n",
       "<style scoped>\n",
       "    .dataframe tbody tr th:only-of-type {\n",
       "        vertical-align: middle;\n",
       "    }\n",
       "\n",
       "    .dataframe tbody tr th {\n",
       "        vertical-align: top;\n",
       "    }\n",
       "\n",
       "    .dataframe thead th {\n",
       "        text-align: right;\n",
       "    }\n",
       "</style>\n",
       "<table border=\"1\" class=\"dataframe\">\n",
       "  <thead>\n",
       "    <tr style=\"text-align: right;\">\n",
       "      <th></th>\n",
       "      <th>user_id</th>\n",
       "      <th>business_id</th>\n",
       "      <th>text</th>\n",
       "      <th>date</th>\n",
       "      <th>compliment_count</th>\n",
       "    </tr>\n",
       "  </thead>\n",
       "  <tbody>\n",
       "    <tr>\n",
       "      <th>0</th>\n",
       "      <td>AGNUgVwnZUey3gcPCJ76iw</td>\n",
       "      <td>3uLgwr0qeCNMjKenHJwPGQ</td>\n",
       "      <td>Avengers time with the ladies.</td>\n",
       "      <td>2012-05-18 02:17:21</td>\n",
       "      <td>0</td>\n",
       "    </tr>\n",
       "    <tr>\n",
       "      <th>1</th>\n",
       "      <td>NBN4MgHP9D3cw--SnauTkA</td>\n",
       "      <td>QoezRbYQncpRqyrLH6Iqjg</td>\n",
       "      <td>They have lots of good deserts and tasty cuban...</td>\n",
       "      <td>2013-02-05 18:35:10</td>\n",
       "      <td>0</td>\n",
       "    </tr>\n",
       "    <tr>\n",
       "      <th>2</th>\n",
       "      <td>-copOvldyKh1qr-vzkDEvw</td>\n",
       "      <td>MYoRNLb5chwjQe3c_k37Gg</td>\n",
       "      <td>It's open even when you think it isn't</td>\n",
       "      <td>2013-08-18 00:56:08</td>\n",
       "      <td>0</td>\n",
       "    </tr>\n",
       "    <tr>\n",
       "      <th>3</th>\n",
       "      <td>FjMQVZjSqY8syIO-53KFKw</td>\n",
       "      <td>hV-bABTK-glh5wj31ps_Jw</td>\n",
       "      <td>Very decent fried chicken</td>\n",
       "      <td>2017-06-27 23:05:38</td>\n",
       "      <td>0</td>\n",
       "    </tr>\n",
       "    <tr>\n",
       "      <th>4</th>\n",
       "      <td>ld0AperBXk1h6UbqmM80zw</td>\n",
       "      <td>_uN0OudeJ3Zl_tf6nxg5ww</td>\n",
       "      <td>Appetizers.. platter special for lunch</td>\n",
       "      <td>2012-10-06 19:43:09</td>\n",
       "      <td>0</td>\n",
       "    </tr>\n",
       "  </tbody>\n",
       "</table>\n",
       "</div>"
      ],
      "text/plain": [
       "                  user_id             business_id  \\\n",
       "0  AGNUgVwnZUey3gcPCJ76iw  3uLgwr0qeCNMjKenHJwPGQ   \n",
       "1  NBN4MgHP9D3cw--SnauTkA  QoezRbYQncpRqyrLH6Iqjg   \n",
       "2  -copOvldyKh1qr-vzkDEvw  MYoRNLb5chwjQe3c_k37Gg   \n",
       "3  FjMQVZjSqY8syIO-53KFKw  hV-bABTK-glh5wj31ps_Jw   \n",
       "4  ld0AperBXk1h6UbqmM80zw  _uN0OudeJ3Zl_tf6nxg5ww   \n",
       "\n",
       "                                                text                date  \\\n",
       "0                     Avengers time with the ladies. 2012-05-18 02:17:21   \n",
       "1  They have lots of good deserts and tasty cuban... 2013-02-05 18:35:10   \n",
       "2             It's open even when you think it isn't 2013-08-18 00:56:08   \n",
       "3                          Very decent fried chicken 2017-06-27 23:05:38   \n",
       "4             Appetizers.. platter special for lunch 2012-10-06 19:43:09   \n",
       "\n",
       "   compliment_count  \n",
       "0                 0  \n",
       "1                 0  \n",
       "2                 0  \n",
       "3                 0  \n",
       "4                 0  "
      ]
     },
     "execution_count": 6,
     "metadata": {},
     "output_type": "execute_result"
    }
   ],
   "source": [
    "df.head()"
   ]
  },
  {
   "cell_type": "markdown",
   "metadata": {},
   "source": [
    "## Valores Nulos:"
   ]
  },
  {
   "cell_type": "code",
   "execution_count": 7,
   "metadata": {},
   "outputs": [
    {
     "data": {
      "text/plain": [
       "user_id             0\n",
       "business_id         0\n",
       "text                0\n",
       "date                0\n",
       "compliment_count    0\n",
       "dtype: int64"
      ]
     },
     "execution_count": 7,
     "metadata": {},
     "output_type": "execute_result"
    }
   ],
   "source": [
    "# Suma de Nulos por Columnas\n",
    "df.isna().sum()"
   ]
  },
  {
   "cell_type": "markdown",
   "metadata": {},
   "source": [
    "#### Observacion\n",
    "\n",
    "- No se observan Valores Nulos en ninguna de las Variables."
   ]
  },
  {
   "cell_type": "markdown",
   "metadata": {},
   "source": [
    "## Duplicados"
   ]
  },
  {
   "cell_type": "code",
   "execution_count": 8,
   "metadata": {},
   "outputs": [
    {
     "name": "stdout",
     "output_type": "stream",
     "text": [
      "Cantidad de filas Duplicadas: 67\n"
     ]
    }
   ],
   "source": [
    "# Verificar si se encuentran Duplicados\n",
    "filas_duplicadas = df.duplicated()\n",
    "filas_duplicadas_total = filas_duplicadas.sum()\n",
    "print(f'Cantidad de filas Duplicadas: {filas_duplicadas_total}')"
   ]
  },
  {
   "cell_type": "code",
   "execution_count": 9,
   "metadata": {},
   "outputs": [
    {
     "data": {
      "text/html": [
       "<div>\n",
       "<style scoped>\n",
       "    .dataframe tbody tr th:only-of-type {\n",
       "        vertical-align: middle;\n",
       "    }\n",
       "\n",
       "    .dataframe tbody tr th {\n",
       "        vertical-align: top;\n",
       "    }\n",
       "\n",
       "    .dataframe thead th {\n",
       "        text-align: right;\n",
       "    }\n",
       "</style>\n",
       "<table border=\"1\" class=\"dataframe\">\n",
       "  <thead>\n",
       "    <tr style=\"text-align: right;\">\n",
       "      <th></th>\n",
       "      <th>user_id</th>\n",
       "      <th>business_id</th>\n",
       "      <th>text</th>\n",
       "      <th>date</th>\n",
       "      <th>compliment_count</th>\n",
       "    </tr>\n",
       "  </thead>\n",
       "  <tbody>\n",
       "    <tr>\n",
       "      <th>29901</th>\n",
       "      <td>00Cz_vdInMHpTRjqbWjK5Q</td>\n",
       "      <td>ncacMQ9n_dSM1cR3c1vTQw</td>\n",
       "      <td>Miss saigon</td>\n",
       "      <td>2010-12-07 01:59:12</td>\n",
       "      <td>0</td>\n",
       "    </tr>\n",
       "    <tr>\n",
       "      <th>58887</th>\n",
       "      <td>47zMh_WgunwRDf7Cx2WyYw</td>\n",
       "      <td>J8vz_zwZaxzA585lV_k_vA</td>\n",
       "      <td>Com chien and mi are delish!</td>\n",
       "      <td>2011-07-23 17:22:58</td>\n",
       "      <td>0</td>\n",
       "    </tr>\n",
       "    <tr>\n",
       "      <th>99407</th>\n",
       "      <td>WQ8shYm0ghNDz97BuHI1fA</td>\n",
       "      <td>Sv1MEZP-mMfp8SmE0hwYEA</td>\n",
       "      <td>love the crispy buns!</td>\n",
       "      <td>2017-10-18 23:29:03</td>\n",
       "      <td>0</td>\n",
       "    </tr>\n",
       "    <tr>\n",
       "      <th>126358</th>\n",
       "      <td>hGxVvXVg7IK4J2aTiGMSIQ</td>\n",
       "      <td>5RsVAkDnMrcSbErS6P1eew</td>\n",
       "      <td>Pricey, often crowded, and staff are not alway...</td>\n",
       "      <td>2017-10-20 22:08:25</td>\n",
       "      <td>0</td>\n",
       "    </tr>\n",
       "    <tr>\n",
       "      <th>129213</th>\n",
       "      <td>1gDoko0TrN0lnQlMC2JtXw</td>\n",
       "      <td>06PmqoU3uY5Vb-BEaMPVfw</td>\n",
       "      <td>We ordered a pizza on New Year's Day, it never...</td>\n",
       "      <td>2014-02-20 04:09:37</td>\n",
       "      <td>0</td>\n",
       "    </tr>\n",
       "  </tbody>\n",
       "</table>\n",
       "</div>"
      ],
      "text/plain": [
       "                       user_id             business_id  \\\n",
       "29901   00Cz_vdInMHpTRjqbWjK5Q  ncacMQ9n_dSM1cR3c1vTQw   \n",
       "58887   47zMh_WgunwRDf7Cx2WyYw  J8vz_zwZaxzA585lV_k_vA   \n",
       "99407   WQ8shYm0ghNDz97BuHI1fA  Sv1MEZP-mMfp8SmE0hwYEA   \n",
       "126358  hGxVvXVg7IK4J2aTiGMSIQ  5RsVAkDnMrcSbErS6P1eew   \n",
       "129213  1gDoko0TrN0lnQlMC2JtXw  06PmqoU3uY5Vb-BEaMPVfw   \n",
       "\n",
       "                                                     text                date  \\\n",
       "29901                                         Miss saigon 2010-12-07 01:59:12   \n",
       "58887                        Com chien and mi are delish! 2011-07-23 17:22:58   \n",
       "99407                               love the crispy buns! 2017-10-18 23:29:03   \n",
       "126358  Pricey, often crowded, and staff are not alway... 2017-10-20 22:08:25   \n",
       "129213  We ordered a pizza on New Year's Day, it never... 2014-02-20 04:09:37   \n",
       "\n",
       "        compliment_count  \n",
       "29901                  0  \n",
       "58887                  0  \n",
       "99407                  0  \n",
       "126358                 0  \n",
       "129213                 0  "
      ]
     },
     "execution_count": 9,
     "metadata": {},
     "output_type": "execute_result"
    }
   ],
   "source": [
    "# Filtrar las filas duplicadas\n",
    "df_duplicados = df[filas_duplicadas]\n",
    "\n",
    "# Mostrar las filas duplicadas\n",
    "df_duplicados.head()\n"
   ]
  },
  {
   "cell_type": "code",
   "execution_count": 10,
   "metadata": {},
   "outputs": [],
   "source": [
    "# Eliminamos los duplicados\n",
    "df = df.drop_duplicates()"
   ]
  },
  {
   "cell_type": "code",
   "execution_count": 11,
   "metadata": {},
   "outputs": [],
   "source": [
    "# Resetear el indice\n",
    "df.reset_index(drop=True, inplace=True)"
   ]
  },
  {
   "cell_type": "code",
   "execution_count": 12,
   "metadata": {},
   "outputs": [
    {
     "name": "stdout",
     "output_type": "stream",
     "text": [
      "<class 'pandas.core.frame.DataFrame'>\n",
      "RangeIndex: 908848 entries, 0 to 908847\n",
      "Data columns (total 5 columns):\n",
      " #   Column            Non-Null Count   Dtype         \n",
      "---  ------            --------------   -----         \n",
      " 0   user_id           908848 non-null  object        \n",
      " 1   business_id       908848 non-null  object        \n",
      " 2   text              908848 non-null  object        \n",
      " 3   date              908848 non-null  datetime64[ns]\n",
      " 4   compliment_count  908848 non-null  int64         \n",
      "dtypes: datetime64[ns](1), int64(1), object(3)\n",
      "memory usage: 34.7+ MB\n"
     ]
    }
   ],
   "source": [
    "# Verificamos que se hayan eliminado y el indice arreglado\n",
    "df.info()"
   ]
  },
  {
   "cell_type": "markdown",
   "metadata": {},
   "source": [
    "## Columnas"
   ]
  },
  {
   "cell_type": "code",
   "execution_count": 13,
   "metadata": {},
   "outputs": [],
   "source": [
    "# Eliminamos las columnas que no son necesarias en nuestro criterio\n",
    "# df = df.drop(columns=['useful', 'funny', 'cool'])"
   ]
  },
  {
   "cell_type": "code",
   "execution_count": 14,
   "metadata": {},
   "outputs": [
    {
     "data": {
      "text/html": [
       "<div>\n",
       "<style scoped>\n",
       "    .dataframe tbody tr th:only-of-type {\n",
       "        vertical-align: middle;\n",
       "    }\n",
       "\n",
       "    .dataframe tbody tr th {\n",
       "        vertical-align: top;\n",
       "    }\n",
       "\n",
       "    .dataframe thead th {\n",
       "        text-align: right;\n",
       "    }\n",
       "</style>\n",
       "<table border=\"1\" class=\"dataframe\">\n",
       "  <thead>\n",
       "    <tr style=\"text-align: right;\">\n",
       "      <th></th>\n",
       "      <th>Frecuencia Absoluta</th>\n",
       "      <th>Porcentaje</th>\n",
       "    </tr>\n",
       "    <tr>\n",
       "      <th>compliment_count</th>\n",
       "      <th></th>\n",
       "      <th></th>\n",
       "    </tr>\n",
       "  </thead>\n",
       "  <tbody>\n",
       "    <tr>\n",
       "      <th>0</th>\n",
       "      <td>898309</td>\n",
       "      <td>0.988404</td>\n",
       "    </tr>\n",
       "    <tr>\n",
       "      <th>1</th>\n",
       "      <td>9821</td>\n",
       "      <td>0.010806</td>\n",
       "    </tr>\n",
       "    <tr>\n",
       "      <th>2</th>\n",
       "      <td>617</td>\n",
       "      <td>0.000679</td>\n",
       "    </tr>\n",
       "    <tr>\n",
       "      <th>3</th>\n",
       "      <td>82</td>\n",
       "      <td>0.000090</td>\n",
       "    </tr>\n",
       "    <tr>\n",
       "      <th>4</th>\n",
       "      <td>14</td>\n",
       "      <td>0.000015</td>\n",
       "    </tr>\n",
       "    <tr>\n",
       "      <th>5</th>\n",
       "      <td>3</td>\n",
       "      <td>0.000003</td>\n",
       "    </tr>\n",
       "    <tr>\n",
       "      <th>6</th>\n",
       "      <td>2</td>\n",
       "      <td>0.000002</td>\n",
       "    </tr>\n",
       "  </tbody>\n",
       "</table>\n",
       "</div>"
      ],
      "text/plain": [
       "                  Frecuencia Absoluta  Porcentaje\n",
       "compliment_count                                 \n",
       "0                              898309    0.988404\n",
       "1                                9821    0.010806\n",
       "2                                 617    0.000679\n",
       "3                                  82    0.000090\n",
       "4                                  14    0.000015\n",
       "5                                   3    0.000003\n",
       "6                                   2    0.000002"
      ]
     },
     "execution_count": 14,
     "metadata": {},
     "output_type": "execute_result"
    }
   ],
   "source": [
    "# Obtener la frecuencia absoluta\n",
    "cumplidos = df['compliment_count'].value_counts()\n",
    "\n",
    "# Obtener el porcentaje de cada valor\n",
    "cumplidos_porcentaje = df['compliment_count'].value_counts(normalize=True)\n",
    "\n",
    "# Crear un DataFrame con las dos columnas: 'Frecuencia Absoluta' y 'Porcentaje'\n",
    "resultado = pd.DataFrame({\n",
    "    'Frecuencia Absoluta': cumplidos,\n",
    "    'Porcentaje': cumplidos_porcentaje\n",
    "})\n",
    "\n",
    "# Visualizar el DataFrame\n",
    "resultado\n"
   ]
  },
  {
   "cell_type": "markdown",
   "metadata": {},
   "source": [
    "#### Observación\n",
    "\n",
    "En el análisis realizado, se observa que la columna `compliment_count` presenta una distribución altamente sesgada, con más del 98% de los valores siendo cero. Esto sugiere que la mayoría de las filas corresponden a registros en los que no se ha asignado un puntaje de manera explícita por parte de los usuarios, lo que podría ocurrir cuando no se proporcionan cumplidos o cuando estos son registrados de forma automática con el valor de cero.\n",
    "\n",
    "**Detalles de la distribución:**\n",
    "- El valor cero (`0`) representa el **98.8%** de las entradas en la columna, lo que indica que la mayoría de los registros no tienen cumplidos proporcionados.\n",
    "- Los valores pequeños (1, 2, 3, etc.) representan solo el **1.2%** restante, lo que muestra una muy baja frecuencia de cumplidos por parte de los usuarios.\n",
    "\n",
    "#### Decisión:\n",
    "Debido a que más del **98%** de los valores son ceros y este comportamiento es probablemente indicativo de un valor predeterminado o automático, se decide eliminar la columna `compliment_count` del DataFrame. Esto permitirá reducir el tamaño de los datos y eliminar información que no aporta valor relevante para el análisis posterior, ya que la columna está mayormente compuesta por valores irrelevantes para la evaluación de los cumplidos.\n"
   ]
  },
  {
   "cell_type": "code",
   "execution_count": 15,
   "metadata": {},
   "outputs": [],
   "source": [
    "# Se Elimina la Columna 'compliment_count'\n",
    "df = df.drop(columns=['compliment_count'])"
   ]
  },
  {
   "cell_type": "markdown",
   "metadata": {},
   "source": [
    "### Tipo de Variables"
   ]
  },
  {
   "cell_type": "code",
   "execution_count": 16,
   "metadata": {},
   "outputs": [
    {
     "name": "stdout",
     "output_type": "stream",
     "text": [
      "user_id                object\n",
      "business_id            object\n",
      "text                   object\n",
      "date           datetime64[ns]\n",
      "dtype: object\n"
     ]
    }
   ],
   "source": [
    "# Tipo de Dato de cada variable\n",
    "print(df.dtypes)"
   ]
  },
  {
   "cell_type": "code",
   "execution_count": 17,
   "metadata": {},
   "outputs": [
    {
     "data": {
      "text/plain": [
       "object            3\n",
       "datetime64[ns]    1\n",
       "Name: count, dtype: int64"
      ]
     },
     "execution_count": 17,
     "metadata": {},
     "output_type": "execute_result"
    }
   ],
   "source": [
    "# Cantidad de cada Variable\n",
    "df.dtypes.value_counts()"
   ]
  },
  {
   "cell_type": "markdown",
   "metadata": {},
   "source": [
    "#### Observación\n",
    "\n",
    "Al revisar los tipos de datos de cada columna en el DataFrame, encontramos que:\n",
    "\n",
    "- **3 columnas** son de tipo `object` (cadenas de texto), que son:\n",
    "  - `user_id`: Identificador único del usuario.\n",
    "  - `business_id`: Identificador único del negocio.\n",
    "  - `text`: Texto del tip.\n",
    "  \n",
    "- **1 columna** es de tipo `datetime64[ns]` (fecha y hora), que es:\n",
    "  - `date`: Fecha en la que se escribió el tip.\n",
    "\n"
   ]
  },
  {
   "cell_type": "markdown",
   "metadata": {},
   "source": [
    "## Analisis Univariado de Variables"
   ]
  },
  {
   "cell_type": "code",
   "execution_count": 18,
   "metadata": {},
   "outputs": [],
   "source": [
    "# Establecer tema con más personalización\n",
    "sns.set_theme(style=\"whitegrid\", palette=\"viridis\", font=\"Arial\", rc={\"axes.titlesize\": 16, \"axes.labelsize\": 12})"
   ]
  },
  {
   "cell_type": "code",
   "execution_count": 19,
   "metadata": {},
   "outputs": [
    {
     "data": {
      "text/html": [
       "<div>\n",
       "<style scoped>\n",
       "    .dataframe tbody tr th:only-of-type {\n",
       "        vertical-align: middle;\n",
       "    }\n",
       "\n",
       "    .dataframe tbody tr th {\n",
       "        vertical-align: top;\n",
       "    }\n",
       "\n",
       "    .dataframe thead th {\n",
       "        text-align: right;\n",
       "    }\n",
       "</style>\n",
       "<table border=\"1\" class=\"dataframe\">\n",
       "  <thead>\n",
       "    <tr style=\"text-align: right;\">\n",
       "      <th></th>\n",
       "      <th>user_id</th>\n",
       "      <th>business_id</th>\n",
       "      <th>text</th>\n",
       "    </tr>\n",
       "  </thead>\n",
       "  <tbody>\n",
       "    <tr>\n",
       "      <th>count</th>\n",
       "      <td>908848</td>\n",
       "      <td>908848</td>\n",
       "      <td>908848</td>\n",
       "    </tr>\n",
       "    <tr>\n",
       "      <th>unique</th>\n",
       "      <td>301758</td>\n",
       "      <td>106193</td>\n",
       "      <td>851033</td>\n",
       "    </tr>\n",
       "    <tr>\n",
       "      <th>top</th>\n",
       "      <td>fCvMnJU1Z-XhAjKg99wK3Q</td>\n",
       "      <td>FEXhWNCMkv22qG04E83Qjg</td>\n",
       "      <td>Great food</td>\n",
       "    </tr>\n",
       "    <tr>\n",
       "      <th>freq</th>\n",
       "      <td>4071</td>\n",
       "      <td>2571</td>\n",
       "      <td>597</td>\n",
       "    </tr>\n",
       "  </tbody>\n",
       "</table>\n",
       "</div>"
      ],
      "text/plain": [
       "                       user_id             business_id        text\n",
       "count                   908848                  908848      908848\n",
       "unique                  301758                  106193      851033\n",
       "top     fCvMnJU1Z-XhAjKg99wK3Q  FEXhWNCMkv22qG04E83Qjg  Great food\n",
       "freq                      4071                    2571         597"
      ]
     },
     "execution_count": 19,
     "metadata": {},
     "output_type": "execute_result"
    }
   ],
   "source": [
    "# Observar las Variables Categóricas, sin la variable de tiempo\n",
    "df.describe(exclude='datetime')\n"
   ]
  },
  {
   "cell_type": "markdown",
   "metadata": {},
   "source": [
    "**Columna `user_id`:**\n",
    "   - **`count`**: Hay 908,848 registros de `user_id`, lo que indica que todas las filas tienen un valor asignado para esta columna.\n",
    "   - **`unique`**: Existen 301,758 usuarios diferentes en el conjunto de datos. Esto sugiere que muchos usuarios han dejado múltiples comentarios, ya que la cantidad de valores únicos es significativamente menor que el número total de registros.\n",
    "   - **`top`**: El `user_id` más frecuente es `'fCvMnJU1Z-XhAjKg99wK3Q'`, con 4,071 registros, lo que indica que este usuario ha dejado una cantidad considerable de comentarios en la plataforma.\n",
    "   - **`freq`**: El valor más frecuente en esta columna tiene una frecuencia de 4,071, lo que refuerza la idea de que algunos usuarios están muy activos, dejando varios comentarios.\n",
    "\n",
    "**Columna `business_id`:**\n",
    "   - **`count`**: Al igual que con `user_id`, todos los registros tienen un valor asignado en la columna `business_id`.\n",
    "   - **`unique`**: Hay 106,193 negocios únicos, lo que sugiere que hay una amplia variedad de empresas en el conjunto de datos.\n",
    "   - **`top`**: El `business_id` más frecuente es `'FEXhWNCMkv22qG04E83Qjg'`, con 2,571 registros, lo que indica que este negocio ha recibido varios comentarios, posiblemente debido a su popularidad o actividad.\n",
    "   - **`freq`**: La frecuencia máxima es 2,571, lo que muestra que algunos negocios tienen muchos comentarios, lo cual es típico en plataformas con muchas interacciones de usuarios.\n",
    "\n",
    "**Columna `text`:**\n",
    "   - **`count`**: Todos los registros tienen un valor de texto, lo que indica que ningún comentario está vacío.\n",
    "   - **`unique`**: Hay 851,033 textos únicos, lo que refleja la diversidad de comentarios y opiniones en la plataforma.\n",
    "   - **`top`**: El comentario más frecuente es `'Great food'`, lo que podría ser un elogio común en los comentarios sobre restaurantes o negocios relacionados con la comida.\n",
    "   - **`freq`**: El comentario `'Great food'` aparece 597 veces, lo que indica que es una frase muy popular y probablemente un comentario comúnmente dejado por los usuarios satisfechos.\n",
    "\n",
    "#### Resumen de la Observación:\n",
    "- **Usuarios activos**: Un número significativo de usuarios deja múltiples comentarios, y uno de ellos ha dejado 4,071 comentarios.\n",
    "- **Negocios populares**: Existen una amplia variedad de negocios, pero algunos, como el identificado por `'FEXhWNCMkv22qG04E83Qjg'`, reciben más interacciones que otros.\n",
    "- **Comentarios recurrentes**: Aunque los comentarios son variados, hay frases comunes que se repiten con frecuencia, como `'Great food'`, lo que refleja una tendencia de comentarios positivos comunes sobre ciertos aspectos de los negocios.\n",
    "\n",
    "**Decisión para eliminar o limpiar datos**: Se puede considerar limpiar y agrupar los comentarios similares para mejorar la calidad del análisis. Además, podría ser útil investigar qué tipo de negocios o usuarios dejan estos comentarios recurrentes, ya que podrían influir en la percepción de la plataforma o el negocio."
   ]
  },
  {
   "cell_type": "markdown",
   "metadata": {},
   "source": [
    "### Variable Temporal"
   ]
  },
  {
   "cell_type": "code",
   "execution_count": 20,
   "metadata": {},
   "outputs": [
    {
     "name": "stdout",
     "output_type": "stream",
     "text": [
      "La fecha Minima de los Tips es: 2009-04-16 13:11:49\n",
      "La fecha Maxima de los Tips es: 2022-01-19 20:38:55\n"
     ]
    }
   ],
   "source": [
    "# Observamos el periodo de los Tips\n",
    "print(f'La fecha Minima de los Tips es: {df[\"date\"].min()}')\n",
    "print(f'La fecha Maxima de los Tips es: {df[\"date\"].max()}')"
   ]
  },
  {
   "cell_type": "code",
   "execution_count": 21,
   "metadata": {},
   "outputs": [],
   "source": [
    "# Creamos las Variables 'Year' y 'Month' para un mejor análisis\n",
    "df['Year'] = df['date'].dt.year\n",
    "df['Month'] = df['date'].dt.month\n"
   ]
  },
  {
   "cell_type": "code",
   "execution_count": 22,
   "metadata": {},
   "outputs": [
    {
     "data": {
      "text/html": [
       "<div>\n",
       "<style scoped>\n",
       "    .dataframe tbody tr th:only-of-type {\n",
       "        vertical-align: middle;\n",
       "    }\n",
       "\n",
       "    .dataframe tbody tr th {\n",
       "        vertical-align: top;\n",
       "    }\n",
       "\n",
       "    .dataframe thead th {\n",
       "        text-align: right;\n",
       "    }\n",
       "</style>\n",
       "<table border=\"1\" class=\"dataframe\">\n",
       "  <thead>\n",
       "    <tr style=\"text-align: right;\">\n",
       "      <th></th>\n",
       "      <th>Year</th>\n",
       "      <th>Month</th>\n",
       "      <th>Frecuencia</th>\n",
       "    </tr>\n",
       "  </thead>\n",
       "  <tbody>\n",
       "    <tr>\n",
       "      <th>0</th>\n",
       "      <td>2009</td>\n",
       "      <td>4</td>\n",
       "      <td>47</td>\n",
       "    </tr>\n",
       "    <tr>\n",
       "      <th>1</th>\n",
       "      <td>2009</td>\n",
       "      <td>5</td>\n",
       "      <td>64</td>\n",
       "    </tr>\n",
       "    <tr>\n",
       "      <th>2</th>\n",
       "      <td>2009</td>\n",
       "      <td>6</td>\n",
       "      <td>72</td>\n",
       "    </tr>\n",
       "    <tr>\n",
       "      <th>3</th>\n",
       "      <td>2009</td>\n",
       "      <td>7</td>\n",
       "      <td>75</td>\n",
       "    </tr>\n",
       "    <tr>\n",
       "      <th>4</th>\n",
       "      <td>2009</td>\n",
       "      <td>8</td>\n",
       "      <td>92</td>\n",
       "    </tr>\n",
       "    <tr>\n",
       "      <th>...</th>\n",
       "      <td>...</td>\n",
       "      <td>...</td>\n",
       "      <td>...</td>\n",
       "    </tr>\n",
       "    <tr>\n",
       "      <th>149</th>\n",
       "      <td>2021</td>\n",
       "      <td>9</td>\n",
       "      <td>2708</td>\n",
       "    </tr>\n",
       "    <tr>\n",
       "      <th>150</th>\n",
       "      <td>2021</td>\n",
       "      <td>10</td>\n",
       "      <td>2868</td>\n",
       "    </tr>\n",
       "    <tr>\n",
       "      <th>151</th>\n",
       "      <td>2021</td>\n",
       "      <td>11</td>\n",
       "      <td>2785</td>\n",
       "    </tr>\n",
       "    <tr>\n",
       "      <th>152</th>\n",
       "      <td>2021</td>\n",
       "      <td>12</td>\n",
       "      <td>1777</td>\n",
       "    </tr>\n",
       "    <tr>\n",
       "      <th>153</th>\n",
       "      <td>2022</td>\n",
       "      <td>1</td>\n",
       "      <td>925</td>\n",
       "    </tr>\n",
       "  </tbody>\n",
       "</table>\n",
       "<p>154 rows × 3 columns</p>\n",
       "</div>"
      ],
      "text/plain": [
       "     Year  Month  Frecuencia\n",
       "0    2009      4          47\n",
       "1    2009      5          64\n",
       "2    2009      6          72\n",
       "3    2009      7          75\n",
       "4    2009      8          92\n",
       "..    ...    ...         ...\n",
       "149  2021      9        2708\n",
       "150  2021     10        2868\n",
       "151  2021     11        2785\n",
       "152  2021     12        1777\n",
       "153  2022      1         925\n",
       "\n",
       "[154 rows x 3 columns]"
      ]
     },
     "execution_count": 22,
     "metadata": {},
     "output_type": "execute_result"
    }
   ],
   "source": [
    "# Agruppamos por 'Year' y 'Month' para tener la frecuencia de Tips\n",
    "df_tiempo = df.groupby(['Year', 'Month']).size().reset_index(name='Frecuencia')\n",
    "df_tiempo"
   ]
  },
  {
   "cell_type": "code",
   "execution_count": 23,
   "metadata": {},
   "outputs": [
    {
     "data": {
      "image/png": "[encoded data removed]",
      "text/plain": [
       "<Figure size 1400x600 with 1 Axes>"
      ]
     },
     "metadata": {},
     "output_type": "display_data"
    }
   ],
   "source": [
    "# Crear el gráfico de línea\n",
    "plt.figure(figsize=(14, 6))\n",
    "ax = sns.lineplot(data=df_tiempo, x='Year', y='Frecuencia', marker='o', color='blue', linewidth=2)\n",
    "\n",
    "# Agregar detalles al gráfico\n",
    "ax.set_title('Frecuencia de Comentarios por Año', fontsize=18, fontweight='bold')\n",
    "ax.set_xlabel('Año', fontsize=14)\n",
    "ax.set_ylabel('Frecuencia de Comentarios', fontsize=14)\n",
    "ax.grid(alpha=0.3)\n",
    "ax.tick_params(axis='both', which='major', labelsize=12)\n",
    "ax.set_xticks(df_tiempo['Year'].unique())  # Mostrar cada año en el eje x\n",
    "\n",
    "# Rotar etiquetas si es necesario\n",
    "plt.xticks(rotation=45)\n",
    "\n",
    "# Mostrar el gráfico\n",
    "plt.tight_layout()\n",
    "plt.show()\n"
   ]
  },
  {
   "cell_type": "markdown",
   "metadata": {},
   "source": [
    "\n",
    "\n",
    "#### **Tendencias Generales**\n",
    "- **Incremento Inicial (2009-2012):** \n",
    "  Se observa un crecimiento constante en la frecuencia desde abril de 2009 hasta 2012. Esto puede deberse a un aumento en la actividad del sistema o base de datos, o a un crecimiento natural en la popularidad de los servicios relacionados.\n",
    "  - 2009 inicia con valores bajos (47-91).\n",
    "  - 2012 culmina con frecuencias altas, superando las 10,000 observaciones mensuales.\n",
    "\n",
    "- **Estabilización y Descenso (2013-2018):**\n",
    "  - Después de 2013, las frecuencias mensuales muestran fluctuaciones moderadas, con una tendencia general descendente a partir de 2015.\n",
    "  - En 2018 se registra una caída significativa, terminando con menos de 5,000 observaciones mensuales.\n",
    "\n",
    "- **Impacto de 2020:**\n",
    "  - La frecuencia disminuye drásticamente en marzo y abril de 2020 (2,700 y 1,174 respectivamente), coincidiendo con el inicio de la pandemia de COVID-19. Este patrón refleja un impacto directo en la actividad registrada.\n",
    "\n",
    "- **Recuperación Parcial (2021):**\n",
    "  - Aunque los valores vuelven a aumentar en 2021, no alcanzan los niveles previos a 2018, mostrando una recuperación lenta y parcial.\n",
    "\n",
    "\n",
    "#### **Comportamiento Anual**\n",
    "- **Picos y Temporada Alta:**\n",
    "  - En la mayoría de los años, los meses de junio a agosto presentan frecuencias más altas, lo que podría estar relacionado con una mayor demanda estacional o eventos específicos.\n",
    "  - Los meses de diciembre muestran menor actividad relativa, excepto en 2009 y 2012.\n",
    "\n",
    "- **Anomalías Notables:**\n",
    "  - **2020:** Es el único año con una caída tan marcada y sostenida en la frecuencia, evidenciando un evento disruptivo (como la pandemia).\n",
    "  - **2011-2013:** Estos años muestran una estabilidad inusualmente alta con valores mensuales consistentemente superiores a 7,000.\n",
    "\n",
    "\n",
    "#### **Observaciones por Periodos Específicos**\n",
    "- **Años con Mayor Actividad:**\n",
    "  - El año **2012** marca el punto más alto, con meses que superan frecuentemente las 10,000 observaciones.\n",
    "  - **2011 y 2013** también presentan una actividad destacada.\n",
    "\n",
    "- **Años con Menor Actividad:**\n",
    "  - Los valores de **2018 en adelante** reflejan una disminución continua, con el año 2020 siendo el más afectado.\n",
    "\n",
    "#### **Conclusiones**\n",
    "- Los datos reflejan una historia de crecimiento, estabilización, caída y recuperación parcial.\n",
    "- Las tendencias podrían estar influenciadas por factores externos como eventos globales (COVID-19), cambios en la infraestructura, o una reducción en la actividad de los usuarios.\n",
    "- Es importante analizar más a fondo qué eventos o cambios específicos impactaron los años más notables como 2012 (máximo) y 2020 (mínimo).\n",
    "\n"
   ]
  },
  {
   "cell_type": "markdown",
   "metadata": {},
   "source": [
    "### Guardar el Dataframe Final"
   ]
  },
  {
   "cell_type": "code",
   "execution_count": 24,
   "metadata": {},
   "outputs": [],
   "source": [
    "# Se guarda el DataFrame Final para comenzar con el análisis y procesamiento\n",
    "df.to_parquet(f\"df_yelp_tips.parquet\")"
   ]
  },
  {
   "cell_type": "markdown",
   "metadata": {},
   "source": [
    "---\n",
    "---"
   ]
  }
 ],
 "metadata": {
  "kernelspec": {
   "display_name": "Python 3",
   "language": "python",
   "name": "python3"
  },
  "language_info": {
   "codemirror_mode": {
    "name": "ipython",
    "version": 3
   },
   "file_extension": ".py",
   "mimetype": "text/x-python",
   "name": "python",
   "nbconvert_exporter": "python",
   "pygments_lexer": "ipython3",
   "version": "3.11.6"
  }
 },
 "nbformat": 4,
 "nbformat_minor": 2
}
